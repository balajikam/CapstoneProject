{
  "nbformat": 4,
  "nbformat_minor": 0,
  "metadata": {
    "colab": {
      "provenance": [],
      "authorship_tag": "ABX9TyNGGtcrNuUyMOuxgM6j76p0",
      "include_colab_link": true
    },
    "kernelspec": {
      "name": "python3",
      "display_name": "Python 3"
    },
    "language_info": {
      "name": "python"
    }
  },
  "cells": [
    {
      "cell_type": "markdown",
      "metadata": {
        "id": "view-in-github",
        "colab_type": "text"
      },
      "source": [
        "<a href=\"https://colab.research.google.com/github/balajikam/CapstoneProject/blob/main/Capstone.ipynb\" target=\"_parent\"><img src=\"https://colab.research.google.com/assets/colab-badge.svg\" alt=\"Open In Colab\"/></a>"
      ]
    },
    {
      "cell_type": "code",
      "execution_count": null,
      "metadata": {
        "id": "S1UsbxwoPEDg"
      },
      "outputs": [],
      "source": [
        "import sqlite3\n",
        "import pandas as pd\n",
        "\n",
        "db = sqlite3.connect('customers.db')\n",
        "\n",
        "query_create_table = 'CREATE TABLE customers(customer_id INTEGER, first_name VARCHAR, last_name VARCHAR, date_of_birth DATE)'\n",
        "db.execute(query_create_table)\n",
        "\n",
        "query_insert_data = '''\n",
        "INSERT INTO customers (customer_id, first_name, last_name, date_of_birth) VALUES\n",
        "(1, 'John', 'Doe', '1980-05-15'),\n",
        "(2, 'Jane', 'Smith', '1992-08-21'),\n",
        "(3, 'Alice', 'Johnson', '1975-02-10'),\n",
        "(4, 'Sarah', 'Jones', '1988-12-03'),\n",
        "(5, 'David', 'Brown', '1995-04-18'),\n",
        "(6, 'Emma', 'Miller', '1982-07-25');\n",
        "'''\n",
        "\n",
        "db.execute(query_insert_data)\n",
        "\n",
        "query_select_all = 'SELECT * FROM customers'\n",
        "df_customers = pd.read_sql_query(query_select_all, db)\n",
        "print(df_customers)\n",
        "\n",
        "db.commit()"
      ]
    },
    {
      "cell_type": "code",
      "source": [
        "#install Apache Spark 3.0.1 with Hadoop 2.7 from here.\n",
        "!wget https://archive.apache.org/dist/spark/spark-3.0.0/spark-3.0.0-bin-hadoop2.7.tgz\n",
        "\n",
        "# Now, we just need to unzip that folder.\n",
        "!tar -xvzf spark-3.0.0-bin-hadoop2.7.tgz\n",
        "!pip install findspark\n",
        "\n",
        "\n",
        "import os\n",
        "os.environ[\"SPARK_HOME\"] = \"/content/spark-3.0.0-bin-hadoop2.7\"\n",
        "import findspark\n",
        "findspark.init()"
      ],
      "metadata": {
        "id": "R-D2EDaKkGp5"
      },
      "execution_count": null,
      "outputs": []
    },
    {
      "cell_type": "code",
      "source": [
        "import json\n",
        "from pyspark.sql import SparkSession\n",
        "from pyspark.sql.types import *\n",
        "\n",
        "spark = SparkSession.builder.appName(\"CapstoneProject\").master(\"local\").getOrCreate()\n",
        "\n",
        "json_file_path = \"/content/branches.json\"\n",
        "\n",
        "with open(json_file_path, 'r') as file:\n",
        "    json_data = json.load(file)\n",
        "\n",
        "schema = StructType([\n",
        "    StructField(\"branch_id\", IntegerType(), True),\n",
        "    StructField(\"branch_name\", StringType(), True),\n",
        "    StructField(\"location\", StringType(), True),\n",
        "])\n",
        "\n",
        "rows = [(branch[\"branch_id\"], branch[\"branch_name\"], branch[\"location\"]) for branch in json_data[\"branches\"]]\n",
        "branches = spark.createDataFrame(rows, schema=schema)\n",
        "\n",
        "branches.show(truncate=False)"
      ],
      "metadata": {
        "id": "iTvlRXb1jeHQ"
      },
      "execution_count": null,
      "outputs": []
    },
    {
      "cell_type": "code",
      "source": [
        "import json\n",
        "from pyspark.sql import SparkSession\n",
        "from pyspark.sql.types import *\n",
        "\n",
        "spark = SparkSession.builder.appName(\"CapstoneProject\").master(\"local\").getOrCreate()\n",
        "\n",
        "json_file_path = \"/content/accounts.json\"\n",
        "\n",
        "with open(json_file_path, 'r') as file:\n",
        "    json_data = json.load(file)\n",
        "\n",
        "schema = StructType([\n",
        "    StructField(\"account_id\", IntegerType(), True),\n",
        "    StructField(\"customer_id\", IntegerType(), True),\n",
        "    StructField(\"employee_id\", IntegerType(), True),\n",
        "    StructField(\"account_type\", StringType(), True),\n",
        "    StructField(\"balance\", IntegerType(), True),\n",
        "])\n",
        "\n",
        "rows = [\n",
        "    (\n",
        "        account[\"account_id\"],\n",
        "        account[\"customer_id\"],\n",
        "        account[\"employee_id\"],\n",
        "        account[\"account_type\"],\n",
        "        account[\"balance\"]\n",
        "    ) for account in json_data[\"accounts\"]\n",
        "]\n",
        "accounts = spark.createDataFrame(rows, schema=schema)\n",
        "\n",
        "accounts.show(truncate=False)"
      ],
      "metadata": {
        "id": "h8SidZgtjv95"
      },
      "execution_count": null,
      "outputs": []
    },
    {
      "cell_type": "code",
      "source": [
        "from pyspark.sql import SparkSession\n",
        "from pyspark.sql.types import *\n",
        "spark = SparkSession.builder.appName(\"CapstoneProject\").master(\"local\").getOrCreate()\n",
        "\n",
        "transaction = spark.read.csv(path = \"/content/transactions.csv\", header=True)\n",
        "transaction.show(truncate=False)"
      ],
      "metadata": {
        "id": "zyRTWTCekkMM"
      },
      "execution_count": null,
      "outputs": []
    },
    {
      "cell_type": "code",
      "source": [
        "import xml.etree.ElementTree as ET\n",
        "import pandas as pd\n",
        "\n",
        "tree = ET.parse('/content/employees.xml')\n",
        "root = tree.getroot()\n",
        "\n",
        "data = []\n",
        "for child in root:\n",
        "    record = {}\n",
        "    for subchild in child:\n",
        "        record[subchild.tag] = subchild.text\n",
        "    data.append(record)\n",
        "\n",
        "employees = pd.DataFrame(data)\n",
        "print(employees)"
      ],
      "metadata": {
        "id": "D7L1f41ykpuC"
      },
      "execution_count": null,
      "outputs": []
    },
    {
      "cell_type": "code",
      "source": [
        "from pyspark.sql import SparkSession\n",
        "from pyspark.sql.types import *\n",
        "spark = SparkSession.builder.appName(\"CapstoneProject\").master(\"local\").getOrCreate()\n",
        "\n",
        "\n",
        "loans = spark.read.csv(path = \"/content/loans.csv\", header=True)\n",
        "loans.show(truncate=False)"
      ],
      "metadata": {
        "id": "IxPyxAUWkt1u"
      },
      "execution_count": null,
      "outputs": []
    },
    {
      "cell_type": "code",
      "source": [
        "from pyspark.sql import SparkSession\n",
        "from pyspark.sql.types import *\n",
        "from pyspark.sql.functions import monotonically_increasing_id\n",
        "spark = SparkSession.builder.appName(\"CapstoneProject\").master(\"local\").getOrCreate()\n",
        "\n",
        "payment_history = spark.read.csv(path = \"/content/payment_history.csv\", header=True)\n",
        "payment_history = payment_history.withColumn(\"payment_id\", monotonically_increasing_id())\n",
        "payment_history.show(truncate=False)"
      ],
      "metadata": {
        "id": "j1-Owaj_kv-U"
      },
      "execution_count": null,
      "outputs": []
    },
    {
      "cell_type": "code",
      "source": [
        "#Basic Reports\n",
        "# 1. Write a spark dataframe to show the balance amount for an account_id = 1\n",
        "\n",
        "result_df = accounts.filter(accounts[\"account_id\"] == 1).select(\"balance\")\n",
        "result_df.show(truncate=False)"
      ],
      "metadata": {
        "colab": {
          "base_uri": "https://localhost:8080/"
        },
        "id": "qAmkeO3zk0fh",
        "outputId": "8f944cac-d037-4491-e267-4738559ead18"
      },
      "execution_count": 61,
      "outputs": [
        {
          "output_type": "stream",
          "name": "stdout",
          "text": [
            "+-------+\n",
            "|balance|\n",
            "+-------+\n",
            "|5000   |\n",
            "+-------+\n",
            "\n"
          ]
        }
      ]
    },
    {
      "cell_type": "code",
      "source": [
        "#2: List Transactions for an account_id = 1:\n",
        "\n",
        "account_transactions = transaction.filter(transaction[\"account_id\"] == 1)\n",
        "account_transactions.show(truncate=False)"
      ],
      "metadata": {
        "colab": {
          "base_uri": "https://localhost:8080/"
        },
        "id": "UOqvZ5_pk6G5",
        "outputId": "b7d7d6b4-42c8-4439-c0aa-931e8432635b"
      },
      "execution_count": 62,
      "outputs": [
        {
          "output_type": "stream",
          "name": "stdout",
          "text": [
            "+--------------+----------+----------------+------+-------------------+\n",
            "|transaction_id|account_id|transaction_type|amount|transaction_date   |\n",
            "+--------------+----------+----------------+------+-------------------+\n",
            "|1             |1         |Deposit         |1000  |2023-01-15 08:30:00|\n",
            "|2             |1         |Withdrawal      |500   |2023-02-02 12:45:00|\n",
            "|10            |1         |Deposit         |1200  |2023-10-01 10:00:00|\n",
            "+--------------+----------+----------------+------+-------------------+\n",
            "\n"
          ]
        }
      ]
    },
    {
      "cell_type": "code",
      "source": [
        "#3: List Accounts with a zero balance:\n",
        "\n",
        "zero_balance_accounts = accounts.filter(accounts[\"balance\"] == 0)\n",
        "zero_balance_accounts.show(truncate=False)"
      ],
      "metadata": {
        "colab": {
          "base_uri": "https://localhost:8080/"
        },
        "id": "HYQ00QTalH59",
        "outputId": "382c95a0-6a3f-49e3-e834-a239b9453944"
      },
      "execution_count": 63,
      "outputs": [
        {
          "output_type": "stream",
          "name": "stdout",
          "text": [
            "+----------+-----------+-----------+------------+-------+\n",
            "|account_id|customer_id|employee_id|account_type|balance|\n",
            "+----------+-----------+-----------+------------+-------+\n",
            "+----------+-----------+-----------+------------+-------+\n",
            "\n"
          ]
        }
      ]
    },
    {
      "cell_type": "code",
      "source": [
        "#4: Find the Oldest Customer\n",
        "\n",
        "df_customers.sort_values(by=['date_of_birth'], ascending=True).head(1)"
      ],
      "metadata": {
        "colab": {
          "base_uri": "https://localhost:8080/",
          "height": 80
        },
        "id": "a4QXkNdulO6K",
        "outputId": "b05f0551-49e6-4a1b-ff98-2cbdf19db34e"
      },
      "execution_count": 64,
      "outputs": [
        {
          "output_type": "execute_result",
          "data": {
            "text/plain": [
              "   customer_id first_name last_name date_of_birth\n",
              "2            3      Alice   Johnson    1975-02-10"
            ],
            "text/html": [
              "\n",
              "  <div id=\"df-6113e096-1b2f-4212-b08f-92f65d40ba88\" class=\"colab-df-container\">\n",
              "    <div>\n",
              "<style scoped>\n",
              "    .dataframe tbody tr th:only-of-type {\n",
              "        vertical-align: middle;\n",
              "    }\n",
              "\n",
              "    .dataframe tbody tr th {\n",
              "        vertical-align: top;\n",
              "    }\n",
              "\n",
              "    .dataframe thead th {\n",
              "        text-align: right;\n",
              "    }\n",
              "</style>\n",
              "<table border=\"1\" class=\"dataframe\">\n",
              "  <thead>\n",
              "    <tr style=\"text-align: right;\">\n",
              "      <th></th>\n",
              "      <th>customer_id</th>\n",
              "      <th>first_name</th>\n",
              "      <th>last_name</th>\n",
              "      <th>date_of_birth</th>\n",
              "    </tr>\n",
              "  </thead>\n",
              "  <tbody>\n",
              "    <tr>\n",
              "      <th>2</th>\n",
              "      <td>3</td>\n",
              "      <td>Alice</td>\n",
              "      <td>Johnson</td>\n",
              "      <td>1975-02-10</td>\n",
              "    </tr>\n",
              "  </tbody>\n",
              "</table>\n",
              "</div>\n",
              "    <div class=\"colab-df-buttons\">\n",
              "\n",
              "  <div class=\"colab-df-container\">\n",
              "    <button class=\"colab-df-convert\" onclick=\"convertToInteractive('df-6113e096-1b2f-4212-b08f-92f65d40ba88')\"\n",
              "            title=\"Convert this dataframe to an interactive table.\"\n",
              "            style=\"display:none;\">\n",
              "\n",
              "  <svg xmlns=\"http://www.w3.org/2000/svg\" height=\"24px\" viewBox=\"0 -960 960 960\">\n",
              "    <path d=\"M120-120v-720h720v720H120Zm60-500h600v-160H180v160Zm220 220h160v-160H400v160Zm0 220h160v-160H400v160ZM180-400h160v-160H180v160Zm440 0h160v-160H620v160ZM180-180h160v-160H180v160Zm440 0h160v-160H620v160Z\"/>\n",
              "  </svg>\n",
              "    </button>\n",
              "\n",
              "  <style>\n",
              "    .colab-df-container {\n",
              "      display:flex;\n",
              "      gap: 12px;\n",
              "    }\n",
              "\n",
              "    .colab-df-convert {\n",
              "      background-color: #E8F0FE;\n",
              "      border: none;\n",
              "      border-radius: 50%;\n",
              "      cursor: pointer;\n",
              "      display: none;\n",
              "      fill: #1967D2;\n",
              "      height: 32px;\n",
              "      padding: 0 0 0 0;\n",
              "      width: 32px;\n",
              "    }\n",
              "\n",
              "    .colab-df-convert:hover {\n",
              "      background-color: #E2EBFA;\n",
              "      box-shadow: 0px 1px 2px rgba(60, 64, 67, 0.3), 0px 1px 3px 1px rgba(60, 64, 67, 0.15);\n",
              "      fill: #174EA6;\n",
              "    }\n",
              "\n",
              "    .colab-df-buttons div {\n",
              "      margin-bottom: 4px;\n",
              "    }\n",
              "\n",
              "    [theme=dark] .colab-df-convert {\n",
              "      background-color: #3B4455;\n",
              "      fill: #D2E3FC;\n",
              "    }\n",
              "\n",
              "    [theme=dark] .colab-df-convert:hover {\n",
              "      background-color: #434B5C;\n",
              "      box-shadow: 0px 1px 3px 1px rgba(0, 0, 0, 0.15);\n",
              "      filter: drop-shadow(0px 1px 2px rgba(0, 0, 0, 0.3));\n",
              "      fill: #FFFFFF;\n",
              "    }\n",
              "  </style>\n",
              "\n",
              "    <script>\n",
              "      const buttonEl =\n",
              "        document.querySelector('#df-6113e096-1b2f-4212-b08f-92f65d40ba88 button.colab-df-convert');\n",
              "      buttonEl.style.display =\n",
              "        google.colab.kernel.accessAllowed ? 'block' : 'none';\n",
              "\n",
              "      async function convertToInteractive(key) {\n",
              "        const element = document.querySelector('#df-6113e096-1b2f-4212-b08f-92f65d40ba88');\n",
              "        const dataTable =\n",
              "          await google.colab.kernel.invokeFunction('convertToInteractive',\n",
              "                                                    [key], {});\n",
              "        if (!dataTable) return;\n",
              "\n",
              "        const docLinkHtml = 'Like what you see? Visit the ' +\n",
              "          '<a target=\"_blank\" href=https://colab.research.google.com/notebooks/data_table.ipynb>data table notebook</a>'\n",
              "          + ' to learn more about interactive tables.';\n",
              "        element.innerHTML = '';\n",
              "        dataTable['output_type'] = 'display_data';\n",
              "        await google.colab.output.renderOutput(dataTable, element);\n",
              "        const docLink = document.createElement('div');\n",
              "        docLink.innerHTML = docLinkHtml;\n",
              "        element.appendChild(docLink);\n",
              "      }\n",
              "    </script>\n",
              "  </div>\n",
              "\n",
              "\n",
              "    </div>\n",
              "  </div>\n"
            ]
          },
          "metadata": {},
          "execution_count": 64
        }
      ]
    },
    {
      "cell_type": "code",
      "source": [
        "# Question 5: Calculate the Total Interest Earned Across All Accounts:\n",
        "from pyspark.sql.functions import *\n",
        "\n",
        "interest_earned = transaction.agg(sum('amount').alias('total_interest'))\n",
        "interest_earned.show()"
      ],
      "metadata": {
        "colab": {
          "base_uri": "https://localhost:8080/"
        },
        "id": "2VJb8AoUlwEY",
        "outputId": "cca74edb-d31d-425c-f4f9-8d03fb1db738"
      },
      "execution_count": 65,
      "outputs": [
        {
          "output_type": "stream",
          "name": "stdout",
          "text": [
            "+--------------+\n",
            "|total_interest|\n",
            "+--------------+\n",
            "|       14500.0|\n",
            "+--------------+\n",
            "\n"
          ]
        }
      ]
    },
    {
      "cell_type": "code",
      "source": [
        "#Accounts Reports\n",
        "#1:- List All Accounts with Customer Information:\n",
        "\n",
        "from pyspark.sql import *\n",
        "from pyspark.sql import SparkSession\n",
        "spark = SparkSession.builder.master(\"local\").appName(\"SparkDemoApp\").getOrCreate()\n",
        "\n",
        "df = spark.createDataFrame(df_customers)\n",
        "\n",
        "df_new = accounts.join(df, on = 'customer_id', how = 'inner')\n",
        "result = df_new.select('customer_id', 'first_name', 'last_name', 'account_id', 'account_type', 'balance')\n",
        "result.show()"
      ],
      "metadata": {
        "colab": {
          "base_uri": "https://localhost:8080/"
        },
        "id": "ZCRil7gJl0w0",
        "outputId": "90d70a0e-f301-4795-a949-8b3ef2ddbcc8"
      },
      "execution_count": 66,
      "outputs": [
        {
          "output_type": "stream",
          "name": "stderr",
          "text": [
            "/content/spark-3.0.0-bin-hadoop2.7/python/pyspark/sql/pandas/conversion.py:327: FutureWarning: iteritems is deprecated and will be removed in a future version. Use .items instead.\n",
            "  for column, series in pdf.iteritems():\n"
          ]
        },
        {
          "output_type": "stream",
          "name": "stdout",
          "text": [
            "+-----------+----------+---------+----------+------------+-------+\n",
            "|customer_id|first_name|last_name|account_id|account_type|balance|\n",
            "+-----------+----------+---------+----------+------------+-------+\n",
            "|          5|     David|    Brown|         8|     Savings|   3000|\n",
            "|          1|      John|      Doe|         1|     Savings|   5000|\n",
            "|          1|      John|      Doe|         2|    Checking|   1000|\n",
            "|          3|     Alice|  Johnson|         4|    Checking|   3000|\n",
            "|          3|     Alice|  Johnson|         6|     Savings|   6000|\n",
            "|          2|      Jane|    Smith|         3|     Savings|   8000|\n",
            "|          2|      Jane|    Smith|         5|    Checking|   2500|\n",
            "|          4|     Sarah|    Jones|         7|    Checking|  12000|\n",
            "+-----------+----------+---------+----------+------------+-------+\n",
            "\n"
          ]
        }
      ]
    },
    {
      "cell_type": "code",
      "source": [
        "#2. Calculate Total Balance for Each Customer:\n",
        "import pyspark.sql.functions as F\n",
        "test = accounts.groupBy(\"customer_id\").agg(F.sum('balance').alias('total_bal'))\n",
        "test1 = test.join(df, \"customer_id\", 'inner')\n",
        "test_new= test1.orderBy(F.desc(\"total_bal\")).show(5)"
      ],
      "metadata": {
        "colab": {
          "base_uri": "https://localhost:8080/"
        },
        "id": "6oBL0PpKqjDq",
        "outputId": "b19ef9ba-83a5-4c98-ccfb-ec53734a77c6"
      },
      "execution_count": 21,
      "outputs": [
        {
          "output_type": "stream",
          "name": "stdout",
          "text": [
            "+-----------+---------+----------+---------+-------------+\n",
            "|customer_id|total_bal|first_name|last_name|date_of_birth|\n",
            "+-----------+---------+----------+---------+-------------+\n",
            "|          4|    12000|     Sarah|    Jones|   1988-12-03|\n",
            "|          2|    10500|      Jane|    Smith|   1992-08-21|\n",
            "|          3|     9000|     Alice|  Johnson|   1975-02-10|\n",
            "|          1|     6000|      John|      Doe|   1980-05-15|\n",
            "|          5|     3000|     David|    Brown|   1995-04-18|\n",
            "+-----------+---------+----------+---------+-------------+\n",
            "\n"
          ]
        }
      ]
    },
    {
      "cell_type": "code",
      "source": [
        "#3:- Find Customers with Multiple Accounts\n",
        "from pyspark.sql.types import *\n",
        "\n",
        "multi_df = accounts.groupBy('customer_id').agg(F.count('account_id').alias('total_accounts'))\n",
        "tb_df = multi_df.filter(F.col('total_accounts')>1)\n",
        "tb_df.show()"
      ],
      "metadata": {
        "colab": {
          "base_uri": "https://localhost:8080/"
        },
        "id": "Ezr5FxifqmWN",
        "outputId": "1c19392b-68cf-4a1c-cc81-89100c22fb7e"
      },
      "execution_count": 22,
      "outputs": [
        {
          "output_type": "stream",
          "name": "stdout",
          "text": [
            "+-----------+--------------+\n",
            "|customer_id|total_accounts|\n",
            "+-----------+--------------+\n",
            "|          1|             2|\n",
            "|          3|             2|\n",
            "|          2|             2|\n",
            "+-----------+--------------+\n",
            "\n"
          ]
        }
      ]
    },
    {
      "cell_type": "code",
      "source": [
        "#Customer Transactions Reports\n",
        "#1-List Transactions with Account and Customer Information:\n",
        "df_customernew = spark.createDataFrame(df_customers)\n",
        "df_customernew.show()\n",
        "joined_df = transaction.join(accounts, \"account_id\").join(df_customernew, \"customer_id\")\n",
        "new_df = joined_df.select('transaction_id','transaction_type','amount','transaction_date','customer_id','first_name','last_name','account_id','account_type')\n",
        "new_df.show(truncate=False)\n"
      ],
      "metadata": {
        "colab": {
          "base_uri": "https://localhost:8080/"
        },
        "id": "bn2G2Uvhq6Bz",
        "outputId": "47480613-27b5-4d7f-b8bb-25075fc58532"
      },
      "execution_count": 39,
      "outputs": [
        {
          "output_type": "stream",
          "name": "stdout",
          "text": [
            "+-----------+----------+---------+-------------+\n",
            "|customer_id|first_name|last_name|date_of_birth|\n",
            "+-----------+----------+---------+-------------+\n",
            "|          1|      John|      Doe|   1980-05-15|\n",
            "|          2|      Jane|    Smith|   1992-08-21|\n",
            "|          3|     Alice|  Johnson|   1975-02-10|\n",
            "|          4|     Sarah|    Jones|   1988-12-03|\n",
            "|          5|     David|    Brown|   1995-04-18|\n",
            "|          6|      Emma|   Miller|   1982-07-25|\n",
            "+-----------+----------+---------+-------------+\n",
            "\n",
            "+--------------+----------------+------+-------------------+-----------+----------+---------+----------+------------+\n",
            "|transaction_id|transaction_type|amount|transaction_date   |customer_id|first_name|last_name|account_id|account_type|\n",
            "+--------------+----------------+------+-------------------+-----------+----------+---------+----------+------------+\n",
            "|10            |Deposit         |1200  |2023-10-01 10:00:00|1          |John      |Doe      |1         |Savings     |\n",
            "|2             |Withdrawal      |500   |2023-02-02 12:45:00|1          |John      |Doe      |1         |Savings     |\n",
            "|1             |Deposit         |1000  |2023-01-15 08:30:00|1          |John      |Doe      |1         |Savings     |\n",
            "|8             |Deposit         |3000  |2023-08-22 16:45:00|1          |John      |Doe      |2         |Checking    |\n",
            "|3             |Deposit         |2000  |2023-03-10 15:20:00|1          |John      |Doe      |2         |Checking    |\n",
            "|9             |Withdrawal      |1500  |2023-09-14 09:30:00|3          |Alice     |Johnson  |4         |Checking    |\n",
            "|5             |Deposit         |1500  |2023-05-20 09:00:00|3          |Alice     |Johnson  |4         |Checking    |\n",
            "|7             |Withdrawal      |800   |2023-07-08 14:15:00|2          |Jane      |Smith    |3         |Savings     |\n",
            "|4             |Withdrawal      |1000  |2023-04-05 10:10:00|2          |Jane      |Smith    |3         |Savings     |\n",
            "|6             |Deposit         |2000  |2023-06-12 11:30:00|2          |Jane      |Smith    |5         |Checking    |\n",
            "+--------------+----------------+------+-------------------+-----------+----------+---------+----------+------------+\n",
            "\n"
          ]
        }
      ]
    },
    {
      "cell_type": "code",
      "source": [
        "# Question 2: Calculate Average Transaction Amount\n",
        "\n",
        "average_transaction_amount = transaction.groupBy().agg(avg(\"amount\").alias(\"average_transaction_amount\"))\n",
        "\n",
        "average_transaction_amount.show(truncate=False)"
      ],
      "metadata": {
        "colab": {
          "base_uri": "https://localhost:8080/"
        },
        "id": "hP1-ymdyxJRP",
        "outputId": "7d7012b8-4b11-4f84-fb43-ec7d6fdb8a8f"
      },
      "execution_count": 40,
      "outputs": [
        {
          "output_type": "stream",
          "name": "stdout",
          "text": [
            "+--------------------------+\n",
            "|average_transaction_amount|\n",
            "+--------------------------+\n",
            "|1450.0                    |\n",
            "+--------------------------+\n",
            "\n"
          ]
        }
      ]
    },
    {
      "cell_type": "code",
      "source": [
        "#3. Identify High-Value Customers with Total Balance:\n",
        "import pyspark.sql.functions as F\n",
        "test = accounts.groupBy(\"customer_id\").agg(F.sum('balance').alias('total_bal'))\n",
        "test1 = test.join(df_customernew, \"customer_id\", 'inner')\n",
        "test_new= test1.orderBy(F.desc(\"total_bal\")).show(5)"
      ],
      "metadata": {
        "colab": {
          "base_uri": "https://localhost:8080/"
        },
        "id": "Tk5wGS42yQly",
        "outputId": "badcfbbb-33b6-4100-e026-8351ac21555e"
      },
      "execution_count": 55,
      "outputs": [
        {
          "output_type": "stream",
          "name": "stdout",
          "text": [
            "+-----------+---------+----------+---------+-------------+\n",
            "|customer_id|total_bal|first_name|last_name|date_of_birth|\n",
            "+-----------+---------+----------+---------+-------------+\n",
            "|          4|    12000|     Sarah|    Jones|   1988-12-03|\n",
            "|          2|    10500|      Jane|    Smith|   1992-08-21|\n",
            "|          3|     9000|     Alice|  Johnson|   1975-02-10|\n",
            "|          1|     6000|      John|      Doe|   1980-05-15|\n",
            "|          5|     3000|     David|    Brown|   1995-04-18|\n",
            "+-----------+---------+----------+---------+-------------+\n",
            "\n"
          ]
        }
      ]
    },
    {
      "cell_type": "code",
      "source": [
        "#4:- List Employees and Their Assigned Customers:\n",
        "from pyspark.sql import *\n",
        "from pyspark.sql import SparkSession\n",
        "spark = SparkSession.builder.master(\"local\").appName(\"SparkDemoApp\").getOrCreate()\n",
        "df_emp2 = spark.createDataFrame(employees)\n",
        "df_test = accounts.join(df_customernew, on ='customer_id', how ='inner')\n",
        "lec_df = df_test.join(df_emp2, on = 'employee_id', how = 'inner')\n",
        "lec_df.show()"
      ],
      "metadata": {
        "colab": {
          "base_uri": "https://localhost:8080/"
        },
        "id": "HIyV84S7yW6K",
        "outputId": "347b6fd3-10bd-4f31-a76c-477c10ba333e"
      },
      "execution_count": 60,
      "outputs": [
        {
          "output_type": "stream",
          "name": "stderr",
          "text": [
            "/content/spark-3.0.0-bin-hadoop2.7/python/pyspark/sql/pandas/conversion.py:327: FutureWarning: iteritems is deprecated and will be removed in a future version. Use .items instead.\n",
            "  for column, series in pdf.iteritems():\n"
          ]
        },
        {
          "output_type": "stream",
          "name": "stdout",
          "text": [
            "+-----------+-----------+----------+------------+-------+----------+---------+-------------+---------+----------+---------+--------+\n",
            "|employee_id|customer_id|account_id|account_type|balance|first_name|last_name|date_of_birth|branch_id|first_name|last_name|position|\n",
            "+-----------+-----------+----------+------------+-------+----------+---------+-------------+---------+----------+---------+--------+\n",
            "|          1|          3|         4|    Checking|   3000|     Alice|  Johnson|   1975-02-10|        2|      Mike|  Johnson| Manager|\n",
            "|          3|          1|         2|    Checking|   1000|      John|      Doe|   1980-05-15|        2|    Robert|    Davis|  Teller|\n",
            "|          3|          3|         6|     Savings|   6000|     Alice|  Johnson|   1975-02-10|        2|    Robert|    Davis|  Teller|\n",
            "|          4|          2|         3|     Savings|   8000|      Jane|    Smith|   1992-08-21|        3|    Olivia|   Wilson|  Teller|\n",
            "|          4|          4|         7|    Checking|  12000|     Sarah|    Jones|   1988-12-03|        3|    Olivia|   Wilson|  Teller|\n",
            "|          2|          5|         8|     Savings|   3000|     David|    Brown|   1995-04-18|        3|     Emily| Williams|  Teller|\n",
            "|          2|          1|         1|     Savings|   5000|      John|      Doe|   1980-05-15|        3|     Emily| Williams|  Teller|\n",
            "|          2|          2|         5|    Checking|   2500|      Jane|    Smith|   1992-08-21|        3|     Emily| Williams|  Teller|\n",
            "+-----------+-----------+----------+------------+-------+----------+---------+-------------+---------+----------+---------+--------+\n",
            "\n"
          ]
        }
      ]
    },
    {
      "cell_type": "code",
      "source": [
        "#5. Calculate the Total Number of Transactions for Each Account Type:\n",
        "joined_df = transaction.join(accounts, \"account_id\", \"inner\")\n",
        "\n",
        "total_transactions_by_type = joined_df.groupBy(\"account_type\").agg(count(\"transaction_id\").alias(\"total_transactions\"))\n",
        "\n",
        "total_transactions_by_type.show()"
      ],
      "metadata": {
        "colab": {
          "base_uri": "https://localhost:8080/"
        },
        "id": "7c7ttckDyp6H",
        "outputId": "e8b77391-a035-4340-b257-008e695f2071"
      },
      "execution_count": 42,
      "outputs": [
        {
          "output_type": "stream",
          "name": "stdout",
          "text": [
            "+------------+------------------+\n",
            "|account_type|total_transactions|\n",
            "+------------+------------------+\n",
            "|     Savings|                 5|\n",
            "|    Checking|                 5|\n",
            "+------------+------------------+\n",
            "\n"
          ]
        }
      ]
    },
    {
      "cell_type": "code",
      "source": [
        "#6. Find Customers with No Accounts:\n",
        "#7. Find Customers with No Accounts:\n",
        "customers_alias = df_customernew.alias(\"c\")\n",
        "accounts_alias = accounts.alias(\"a\")\n",
        "customers_with_no_accounts = customers_alias.join(accounts_alias, col(\"c.customer_id\") == col(\"a.customer_id\"), \"left_anti\")\n",
        "customers_with_no_accounts.show()"
      ],
      "metadata": {
        "colab": {
          "base_uri": "https://localhost:8080/"
        },
        "id": "qAVIXhfvyq7B",
        "outputId": "9640eb55-c9b8-4a38-8d2e-ed5b74238306"
      },
      "execution_count": 47,
      "outputs": [
        {
          "output_type": "stream",
          "name": "stdout",
          "text": [
            "+-----------+----------+---------+-------------+\n",
            "|customer_id|first_name|last_name|date_of_birth|\n",
            "+-----------+----------+---------+-------------+\n",
            "|          6|      Emma|   Miller|   1982-07-25|\n",
            "+-----------+----------+---------+-------------+\n",
            "\n"
          ]
        }
      ]
    },
    {
      "cell_type": "code",
      "source": [
        "#8. List the Latest Transaction for Each Account:\n",
        "window_spec = Window.partitionBy(\"account_id\").orderBy(F.desc(\"transaction_date\"))\n",
        "df_transactions_with_row_number = transaction.withColumn(\"row_number\", F.row_number().over(window_spec))\n",
        "latest_transactions = df_transactions_with_row_number.filter(\"row_number = 1\")\n",
        "latest_transactions = latest_transactions.drop(\"row_number\")\n",
        "latest_transactions.show()"
      ],
      "metadata": {
        "colab": {
          "base_uri": "https://localhost:8080/"
        },
        "id": "7qDWMoqi4JPZ",
        "outputId": "27a366ad-7fdd-49f7-99c6-2d8cb7d4414b"
      },
      "execution_count": 48,
      "outputs": [
        {
          "output_type": "stream",
          "name": "stdout",
          "text": [
            "+--------------+----------+----------------+------+-------------------+\n",
            "|transaction_id|account_id|transaction_type|amount|   transaction_date|\n",
            "+--------------+----------+----------------+------+-------------------+\n",
            "|             7|         3|      Withdrawal|   800|2023-07-08 14:15:00|\n",
            "|             6|         5|         Deposit|  2000|2023-06-12 11:30:00|\n",
            "|            10|         1|         Deposit|  1200|2023-10-01 10:00:00|\n",
            "|             9|         4|      Withdrawal|  1500|2023-09-14 09:30:00|\n",
            "|             8|         2|         Deposit|  3000|2023-08-22 16:45:00|\n",
            "+--------------+----------+----------------+------+-------------------+\n",
            "\n"
          ]
        }
      ]
    },
    {
      "cell_type": "code",
      "source": [
        "#9.Calculate the Total Withdrawals for Each Customer:\n",
        "trans_df = df_new.join(transaction, 'account_id')\n",
        "trans_df2 = trans_df[trans_df['transaction_type'] == 'Withdrawal']\n",
        "trans_df3 = trans_df2.select('customer_id', 'first_name', 'last_name', 'amount')\n",
        "trans_df4 = trans_df3.groupBy('customer_id', 'first_name', 'last_name').agg(F.sum('amount').alias('total_withdrwals'))\n",
        "trans_df4.show()\n",
        "\n"
      ],
      "metadata": {
        "colab": {
          "base_uri": "https://localhost:8080/"
        },
        "id": "sifGYTJj7upn",
        "outputId": "e9c68dfb-722b-41b6-e1bf-feb4c1fd95e1"
      },
      "execution_count": 51,
      "outputs": [
        {
          "output_type": "stream",
          "name": "stdout",
          "text": [
            "+-----------+----------+---------+----------------+\n",
            "|customer_id|first_name|last_name|total_withdrwals|\n",
            "+-----------+----------+---------+----------------+\n",
            "|          3|     Alice|  Johnson|          1500.0|\n",
            "|          2|      Jane|    Smith|          1800.0|\n",
            "|          1|      John|      Doe|           500.0|\n",
            "+-----------+----------+---------+----------------+\n",
            "\n"
          ]
        }
      ]
    },
    {
      "cell_type": "code",
      "source": [
        "#10-Find Duplicate Transactions:\n",
        "df = transaction.groupby('transaction_id').count().alias(\"duplicate_count\")\n",
        "df_new = df.filter(col(\"count\" )> 1).alias(\"duplicate\")\n",
        "df_new.show()"
      ],
      "metadata": {
        "colab": {
          "base_uri": "https://localhost:8080/"
        },
        "id": "Qp1QEIR2_y7e",
        "outputId": "ef1c4b95-2080-41fb-e314-9407c427fcae"
      },
      "execution_count": 53,
      "outputs": [
        {
          "output_type": "stream",
          "name": "stdout",
          "text": [
            "+--------------+-----+\n",
            "|transaction_id|count|\n",
            "+--------------+-----+\n",
            "+--------------+-----+\n",
            "\n"
          ]
        }
      ]
    },
    {
      "cell_type": "code",
      "source": [],
      "metadata": {
        "id": "KN9qzP41AYUW"
      },
      "execution_count": null,
      "outputs": []
    }
  ]
}